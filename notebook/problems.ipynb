{
    "cells": [
        {
            "cell_type": "markdown",
            "id": "5e0ab0d5",
            "metadata": {},
            "source": [
                "### Exercise 1\n",
                "\n",
                "We will use NumPy to obtain information to describe statistically.\n",
                "\n",
                "- Generate an array of 100 elements following a normal distribution.\n",
                "- Generate an array of 100 elements following a chi-square distribution with 3 degrees of freedom.\n",
                "- Calculate the main metrics and statistical measures that best describe the two vectors."
            ]
        },
        {
            "cell_type": "code",
            "execution_count": 2,
            "id": "34720ab6",
            "metadata": {},
            "outputs": [
                {
                    "data": {
                        "text/html": [
                            "<div>\n",
                            "<style scoped>\n",
                            "    .dataframe tbody tr th:only-of-type {\n",
                            "        vertical-align: middle;\n",
                            "    }\n",
                            "\n",
                            "    .dataframe tbody tr th {\n",
                            "        vertical-align: top;\n",
                            "    }\n",
                            "\n",
                            "    .dataframe thead th {\n",
                            "        text-align: right;\n",
                            "    }\n",
                            "</style>\n",
                            "<table border=\"1\" class=\"dataframe\">\n",
                            "  <thead>\n",
                            "    <tr style=\"text-align: right;\">\n",
                            "      <th></th>\n",
                            "      <th>Edad cabra</th>\n",
                            "      <th>Litros de Leche en su última lactancia</th>\n",
                            "      <th>Meses de Lactación</th>\n",
                            "    </tr>\n",
                            "  </thead>\n",
                            "  <tbody>\n",
                            "    <tr>\n",
                            "      <th>0</th>\n",
                            "      <td>2</td>\n",
                            "      <td>3</td>\n",
                            "      <td>5</td>\n",
                            "    </tr>\n",
                            "    <tr>\n",
                            "      <th>1</th>\n",
                            "      <td>6</td>\n",
                            "      <td>4</td>\n",
                            "      <td>7</td>\n",
                            "    </tr>\n",
                            "    <tr>\n",
                            "      <th>2</th>\n",
                            "      <td>5</td>\n",
                            "      <td>6</td>\n",
                            "      <td>9</td>\n",
                            "    </tr>\n",
                            "    <tr>\n",
                            "      <th>3</th>\n",
                            "      <td>1</td>\n",
                            "      <td>1</td>\n",
                            "      <td>5</td>\n",
                            "    </tr>\n",
                            "    <tr>\n",
                            "      <th>4</th>\n",
                            "      <td>2</td>\n",
                            "      <td>5</td>\n",
                            "      <td>3</td>\n",
                            "    </tr>\n",
                            "  </tbody>\n",
                            "</table>\n",
                            "</div>"
                        ],
                        "text/plain": [
                            "   Edad cabra  Litros de Leche en su última lactancia  Meses de Lactación\n",
                            "0           2                                       3                   5\n",
                            "1           6                                       4                   7\n",
                            "2           5                                       6                   9\n",
                            "3           1                                       1                   5\n",
                            "4           2                                       5                   3"
                        ]
                    },
                    "execution_count": 2,
                    "metadata": {},
                    "output_type": "execute_result"
                }
            ],
            "source": [
                "# TODO\n",
                "\n",
                "# Generar un array de 100 elementos siguiendo una distribución normal\n",
                "\n",
                "import numpy as np\n",
                "import pandas as pd\n",
                "\n",
                "np.random.seed(10)\n",
                "data = pd.DataFrame(\n",
                "    {\n",
                "        \"Edad cabra\": np.random.randint(1, 7, 100),\n",
                "        \"Litros de Leche en su última lactancia\": np.random.randint(1, 8, 100),\n",
                "        \"Meses de Lactación\": np.random.randint(1, 10, 100)\n",
                "    }\n",
                ")\n",
                "\n",
                "data.head()\n"
            ]
        },
        {
            "cell_type": "code",
            "execution_count": 3,
            "id": "4b03be2b",
            "metadata": {},
            "outputs": [
                {
                    "name": "stdout",
                    "output_type": "stream",
                    "text": [
                        "      Edad cabra Litros de Leche en su última lactancia Meses de Lactación\n",
                        "count     100.00                                 100.00             100.00\n",
                        "mean        3.28                                   3.88               4.83\n",
                        "std         1.82                                   2.09               2.61\n",
                        "min         1.00                                   1.00               1.00\n",
                        "25%         2.00                                   2.00               2.75\n",
                        "50%         3.00                                   4.00               5.00\n",
                        "75%         5.00                                   6.00               7.00\n",
                        "max         6.00                                   7.00               9.00\n"
                    ]
                },
                {
                    "name": "stderr",
                    "output_type": "stream",
                    "text": [
                        "/tmp/ipykernel_2263/1068295289.py:8: FutureWarning: DataFrame.applymap has been deprecated. Use DataFrame.map instead.\n",
                        "  summary = data.describe().applymap(lambda x: \"{:.2f}\".format(x))\n"
                    ]
                }
            ],
            "source": [
                "#Lo paso a dos decimales para un mayor entendimiento\n",
                "\n",
                "import pandas as pd\n",
                "\n",
                "# Suponiendo que 'data' es tu DataFrame original\n",
                "\n",
                "# Aplica formato de dos decimales a todas las columnas numéricas\n",
                "summary = data.describe().applymap(lambda x: \"{:.2f}\".format(x))\n",
                "\n",
                "# Muestra el resumen formateado\n",
                "print(summary)\n"
            ]
        },
        {
            "cell_type": "code",
            "execution_count": 4,
            "id": "fb9f4f34",
            "metadata": {},
            "outputs": [
                {
                    "data": {
                        "text/plain": [
                            "Edad cabra                                3.28\n",
                            "Litros de Leche en su última lactancia    3.88\n",
                            "Meses de Lactación                        4.83\n",
                            "dtype: float64"
                        ]
                    },
                    "execution_count": 4,
                    "metadata": {},
                    "output_type": "execute_result"
                }
            ],
            "source": [
                "#Calulamos la media de cada valor medido\n",
                "data.mean()"
            ]
        },
        {
            "cell_type": "code",
            "execution_count": 5,
            "id": "b4564b1e",
            "metadata": {},
            "outputs": [
                {
                    "name": "stdout",
                    "output_type": "stream",
                    "text": [
                        "3.88\n"
                    ]
                }
            ],
            "source": [
                "#Calculamos la media de los litros de leche en su última lactancia\n",
                "\n",
                "mean_litros_leche = data[\"Litros de Leche en su última lactancia\"].mean()\n",
                "\n",
                "print(mean_litros_leche)"
            ]
        },
        {
            "cell_type": "code",
            "execution_count": 6,
            "id": "84843702",
            "metadata": {},
            "outputs": [
                {
                    "data": {
                        "text/plain": [
                            "Edad cabra                                3.0\n",
                            "Litros de Leche en su última lactancia    4.0\n",
                            "Meses de Lactación                        5.0\n",
                            "dtype: float64"
                        ]
                    },
                    "execution_count": 6,
                    "metadata": {},
                    "output_type": "execute_result"
                }
            ],
            "source": [
                "#Calulamos la mediana de cada valor medido\n",
                "data.median()"
            ]
        },
        {
            "cell_type": "code",
            "execution_count": 13,
            "id": "2627ddd6",
            "metadata": {},
            "outputs": [
                {
                    "name": "stdout",
                    "output_type": "stream",
                    "text": [
                        "5.0\n"
                    ]
                }
            ],
            "source": [
                "#Calulamos la mediana de los meses de lactación\n",
                "\n",
                "mediana_meses_de_lactacion = data[\"Meses de Lactación\"].median()\n",
                "\n",
                "print(mediana_meses_de_lactacion)"
            ]
        },
        {
            "cell_type": "code",
            "execution_count": 14,
            "id": "b4a45494",
            "metadata": {},
            "outputs": [
                {
                    "name": "stdout",
                    "output_type": "stream",
                    "text": [
                        "Cuantiles/Percentiles: 0.25    2.0\n",
                        "0.50    3.0\n",
                        "0.75    5.0\n",
                        "Name: Edad cabra, dtype: float64\n"
                    ]
                }
            ],
            "source": [
                "# Calcular varios cuantiles/percentiles a la vez de edad de la Cabra \n",
                "\n",
                "quantiles = data[\"Edad cabra\"].quantile([0.25, 0.50, 0.75]) \n",
                "\n",
                "# Imprimir los resultados\n",
                "print(\"Cuantiles/Percentiles:\", quantiles)"
            ]
        },
        {
            "cell_type": "code",
            "execution_count": 15,
            "id": "940280d7",
            "metadata": {},
            "outputs": [
                {
                    "name": "stdout",
                    "output_type": "stream",
                    "text": [
                        "[6.80098375 8.7474967  8.73886969 9.48281803 5.8024557 ]\n"
                    ]
                }
            ],
            "source": [
                "#Chi cuadrado\n",
                "\n",
                "import numpy as np\n",
                "import pandas as pd\n",
                "\n",
                "\n",
                "np.random.seed(10)\n",
                "data = pd.DataFrame({\n",
                "    \"Edad cabra\": np.random.randint(1, 7, 100),\n",
                "    \"Litros de Leche en su última lactancia\": np.random.randint(1, 8, 100),\n",
                "    \"Meses de Lactación\": np.random.randint(1, 10, 100)\n",
                "})\n",
                "\n",
                "# Generar chi-cuadrado y escalar\n",
                "chi2_data = np.random.chisquare(df=3, size=100)\n",
                "chi2_scaled = chi2_data * data[['Edad cabra', 'Litros de Leche en su última lactancia', 'Meses de Lactación']].std(axis=0).mean() + data[['Edad cabra', 'Litros de Leche en su última lactancia', 'Meses de Lactación']].mean(axis=0).mean()\n",
                "\n",
                "# Imprimir los primeros 5 valores\n",
                "print(chi2_scaled[:5]) "
            ]
        },
        {
            "cell_type": "code",
            "execution_count": 10,
            "id": "2aad41e9",
            "metadata": {},
            "outputs": [
                {
                    "data": {
                        "text/plain": [
                            "np.float64(3.0182754029596026)"
                        ]
                    },
                    "execution_count": 10,
                    "metadata": {},
                    "output_type": "execute_result"
                }
            ],
            "source": [
                "chi2_data.mean()"
            ]
        },
        {
            "cell_type": "code",
            "execution_count": 12,
            "id": "caa25f85",
            "metadata": {},
            "outputs": [
                {
                    "name": "stdout",
                    "output_type": "stream",
                    "text": [
                        "Media: 10.556760485015438\n",
                        "Mediana: 9.539785155544818\n",
                        "Percentiles (25, 50, 75): [ 6.16020878  9.53978516 13.41746288]\n",
                        "Cuartiles (Q1, Q2, Q3): [ 6.16020878  9.53978516 13.41746288]\n"
                    ]
                }
            ],
            "source": [
                "#Media, mediana, Percentiles y Cuartiles de CHI CUADRADO\n",
                "\n",
                "import numpy as np\n",
                "import pandas as pd\n",
                "\n",
                "# Calcular la media\n",
                "media_chi2 = np.mean(chi2_scaled)\n",
                "\n",
                "# Calcular la mediana\n",
                "mediana_chi2 = np.median(chi2_scaled)\n",
                "\n",
                "# Calcular percentiles (por ejemplo, el percentil 25, 50 y 75)\n",
                "percentiles_chi2 = np.percentile(chi2_scaled, [25, 50, 75])\n",
                "\n",
                "# Calcular cuartiles (equivalentes a los percentiles 25, 50 y 75)\n",
                "cuartiles_chi2 = np.quantile(chi2_scaled, [0.25, 0.5, 0.75])\n",
                "\n",
                "# Imprimo los resultados\n",
                "print(\"Media:\", media_chi2)\n",
                "print(\"Mediana:\", mediana_chi2)\n",
                "print(\"Percentiles (25, 50, 75):\", percentiles_chi2)\n",
                "print(\"Cuartiles (Q1, Q2, Q3):\", cuartiles_chi2)\n"
            ]
        },
        {
            "cell_type": "markdown",
            "id": "46c70c3d",
            "metadata": {},
            "source": [
                "### Exercise 2\n",
                "\n",
                "Write a Python program to calculate the standard deviation of the following data:\n",
                "\n",
                "```py\n",
                "data = [4, 2, 5, 8, 6]\n",
                "```"
            ]
        },
        {
            "cell_type": "code",
            "execution_count": 16,
            "id": "d590308e",
            "metadata": {},
            "outputs": [
                {
                    "name": "stdout",
                    "output_type": "stream",
                    "text": [
                        "Standard Deviation: 2.0\n"
                    ]
                }
            ],
            "source": [
                "# TODO\n",
                "\n",
                "import numpy as np\n",
                "import pandas as pd\n",
                "\n",
                "data = [4, 2, 5, 8, 6]\n",
                "\n",
                "# Calculando la desviación estandar\n",
                "standard_deviation = np.std(data)\n",
                "\n",
                "# Print the result\n",
                "print(\"Standard Deviation:\", standard_deviation)"
            ]
        }
    ],
    "metadata": {
        "kernelspec": {
            "display_name": "Python 3",
            "language": "python",
            "name": "python3"
        },
        "language_info": {
            "codemirror_mode": {
                "name": "ipython",
                "version": 3
            },
            "file_extension": ".py",
            "mimetype": "text/x-python",
            "name": "python",
            "nbconvert_exporter": "python",
            "pygments_lexer": "ipython3",
            "version": "3.11.4"
        }
    },
    "nbformat": 4,
    "nbformat_minor": 5
}
